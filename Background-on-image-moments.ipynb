{
 "cells": [
  {
   "cell_type": "markdown",
   "id": "b88dcaf9",
   "metadata": {},
   "source": [
    "# Tutorial on image moments in scikit-image\n",
    "\n",
    "Read on for some brief technical background on what image moments are,\n",
    "followed by some practical notes on how to calculate and interpret the\n",
    "different kinds of moments available in the scikit-image package."
   ]
  },
  {
   "cell_type": "markdown",
   "id": "40f8c6ca",
   "metadata": {},
   "source": [
    "## Introduction to image moments\n",
    "\n",
    "The moments of a shape are particular weighted averages (in statistics, \"moments\")\n",
    "of the pixel intensities. In physics they're the distribution of matter about\n",
    "a point or an axis etc.\n",
    "\n",
    "They are usually described as a function $f(x,y)$ which can be read as\n",
    "_the value (or intensity) of the pixel in an image at position $(x,y)$_, where $f$ is the 'image function' (or sometimes $I$).\n",
    "\n",
    "If the image is binary (e.g. a binary blob), then we'd say $f$ takes\n",
    "values in $[0,1]$.\n",
    "\n",
    "A moment of order $p + q$ is defined for a 2D continuous function on a region as:\n",
    "\n",
    "$$M_{pq} = \\int x^p y^q\\hspace{2pt}f(x,y) \\cdot dx\\hspace{2pt}dy$$\n",
    "\n",
    "Usually we work with discrete (not continuous) image functions (as images\n",
    "are usually made of discrete pixels), which conveniently means the integrals\n",
    "simplify to summations over x and y.\n",
    "\n",
    "$$M_{pq} = \\sum_x \\sum_y x^p y^q\\hspace{2pt}f(x,y)$$\n",
    "\n",
    "So the steps to obtain a moment $M_{pq}$ are:\n",
    "\n",
    "- count the pixels over an image $f(x,y)$,\n",
    "- scale this count by a power of $x$ and/or $y$ ($p$ and/or $q$)\n",
    "- the sum of these powers $p+q$ is the moment's _order_"
   ]
  },
  {
   "cell_type": "markdown",
   "id": "d9cb9c55",
   "metadata": {},
   "source": [
    "### Zeroth order moments\n",
    "\n",
    "Since the only values of $(p, q)$ that sum to 0 are $(0, 0)$, there is only one $0^{th}$ order moment: $M_{00}$\n",
    "\n",
    "$$M_{00} = \\sum_x \\sum_y x^0 y^0\\hspace{2pt}f(x,y)$$\n",
    "\n",
    "These coefficients $x^0 = y^0 = 1$, so they can be removed:\n",
    "\n",
    "$$M_{00} = \\sum_x \\sum_y f(x,y)$$\n",
    "\n",
    "The $0^{th}$ moment is just the total count\n",
    "of pixels in an image, i.e. its area (it's usually called the area moment for binary\n",
    "images or otherwise the 'mass' of the image for grayscale etc.)."
   ]
  },
  {
   "cell_type": "markdown",
   "id": "13ac1960",
   "metadata": {},
   "source": [
    "### First order moments\n",
    "\n",
    "By _\"first order moments\"_ we mean $M_{10}$, $M_{01}$\n",
    "\n",
    "$$M_{10} = \\sum_x \\sum_y x \\hspace{2pt}f(x,y) \\hspace{10pt}and\\hspace{10pt}M_{01} = \\sum_x \\sum_y y \\hspace{2pt}f(x,y)$$\n",
    "\n",
    "\n",
    "### Second order moments\n",
    "\n",
    "By _\"second order moments\"_ we mean $M_{11}$, $M_{20}$, $M_{02}$\n",
    "\n",
    "$$M_{11} = \\sum_x \\sum_y xy\\hspace{2pt}f(x,y) \\hspace{10pt},\\hspace{10pt}M_{20} = \\sum_x \\sum_y x^2 \\hspace{2pt}f(x,y) \\hspace{10pt},\\hspace{10pt}M_{02} = \\sum_x \\sum_y y^2 \\hspace{2pt}f(x,y)$$\n",
    "\n",
    "\n",
    "Second order moments $M_{20}$ and $M_{02}$ describe the \"distribution of mass\"\n",
    "of the image with respect to the coordinate axes. In mechanics they're the\n",
    "_moments of inertia_.\n",
    "\n",
    "Another mechanical quality is the _radius of gyration_\n",
    "with respect to an axis, expressed as \n",
    "\n",
    "$$\\sqrt{\\frac{M_{20}}{M_{00}}} \\hspace{10pt}and\\hspace{10pt} \\sqrt{\\frac{M_{02}}{M_{00}}}$$\n",
    "\n",
    "There are others: scale invariant moments and rotation invariant moments\n",
    "(the latter are a.k.a. Hu moments).\n",
    "\n",
    "Next let's run through moment calculation in `scikit-image`."
   ]
  },
  {
   "cell_type": "markdown",
   "id": "01112cbb",
   "metadata": {},
   "source": [
    "## Image moments in scikit-image\n",
    "\n",
    "To calculate image moments, scikit-image provides `skimage.measure.moments`.\n",
    "\n",
    "Firstly, I'll calculate the moments for a small circular binary blob."
   ]
  },
  {
   "cell_type": "code",
   "execution_count": 1,
   "id": "11d6c95a",
   "metadata": {},
   "outputs": [],
   "source": [
    "from skimage.measure import moments\n",
    "from skimage.draw import disk\n",
    "import numpy as np"
   ]
  },
  {
   "cell_type": "code",
   "execution_count": 2,
   "id": "5e313141",
   "metadata": {},
   "outputs": [],
   "source": [
    "shape = (9,9)\n",
    "rr, cc = disk(center=(4,4), radius=4, shape=None)"
   ]
  },
  {
   "cell_type": "code",
   "execution_count": 3,
   "id": "34af9700",
   "metadata": {},
   "outputs": [
    {
     "data": {
      "text/plain": [
       "array([[0, 0, 0, 0, 0, 0, 0, 0, 0],\n",
       "       [0, 0, 1, 1, 1, 1, 1, 0, 0],\n",
       "       [0, 1, 1, 1, 1, 1, 1, 1, 0],\n",
       "       [0, 1, 1, 1, 1, 1, 1, 1, 0],\n",
       "       [0, 1, 1, 1, 1, 1, 1, 1, 0],\n",
       "       [0, 1, 1, 1, 1, 1, 1, 1, 0],\n",
       "       [0, 1, 1, 1, 1, 1, 1, 1, 0],\n",
       "       [0, 0, 1, 1, 1, 1, 1, 0, 0],\n",
       "       [0, 0, 0, 0, 0, 0, 0, 0, 0]], dtype=uint8)"
      ]
     },
     "execution_count": 3,
     "metadata": {},
     "output_type": "execute_result"
    }
   ],
   "source": [
    "img = np.zeros(shape=shape, dtype=np.uint8)\n",
    "img[rr, cc] = 1\n",
    "img"
   ]
  },
  {
   "cell_type": "code",
   "execution_count": 4,
   "id": "ed422259",
   "metadata": {},
   "outputs": [
    {
     "data": {
      "text/plain": [
       "<matplotlib.image.AxesImage at 0x7f7c3df99580>"
      ]
     },
     "execution_count": 4,
     "metadata": {},
     "output_type": "execute_result"
    },
    {
     "data": {
      "image/png": "[encoded data removed]",
      "text/plain": [
       "<Figure size 432x288 with 1 Axes>"
      ]
     },
     "metadata": {
      "needs_background": "light"
     },
     "output_type": "display_data"
    }
   ],
   "source": [
    "import matplotlib.pyplot as plt\n",
    "import matplotlib.ticker as plticker\n",
    "plt.gca().xaxis.set_major_locator(plt.MultipleLocator(1))\n",
    "plt.xlabel(\"x\")\n",
    "plt.ylabel(\"y\")\n",
    "plt.grid()\n",
    "plt.imshow(img)"
   ]
  },
  {
   "cell_type": "markdown",
   "id": "1a304900",
   "metadata": {},
   "source": [
    "By adding unit grid lines to the plot, the area of the disk can be counted simply by counting the number of grid intersections (each of which is the centre point of a disk pixel).\n",
    "\n",
    "- The first and last row (at y=1 and y=6) has 5 of these intersecting gridlines,\n",
    "- The 2nd-6th rows each have 7,\n",
    "- ...so the total is (5 x 2)+(7 x 5) = 45\n",
    "\n",
    "So I'd expect the first image moment (the \"mass\") to be 45, which it is:"
   ]
  },
  {
   "cell_type": "code",
   "execution_count": 5,
   "id": "cc5b6a6b",
   "metadata": {},
   "outputs": [
    {
     "data": {
      "text/plain": [
       "array([[45.]])"
      ]
     },
     "execution_count": 5,
     "metadata": {},
     "output_type": "execute_result"
    }
   ],
   "source": [
    "m00 = moments(img, order=0)\n",
    "m00"
   ]
  },
  {
   "cell_type": "markdown",
   "id": "b7bf7a18",
   "metadata": {},
   "source": [
    "In practice you wouldn't calculate just one moment at a time like this, you'd calculate all up to a particular order.\n",
    "\n",
    "By default in scikit-image this order is 3, but here I only want up to the 2nd order."
   ]
  },
  {
   "cell_type": "code",
   "execution_count": 6,
   "id": "b6389465",
   "metadata": {},
   "outputs": [
    {
     "name": "stdout",
     "output_type": "stream",
     "text": [
      "[[   45.   180.   880.]\n",
      " [  180.   720.  3520.]\n",
      " [  880.  3520. 17100.]]\n"
     ]
    }
   ],
   "source": [
    "moments_array = moments(img, order=2)\n",
    "print(moments_array)"
   ]
  },
  {
   "cell_type": "markdown",
   "id": "5739f2ec",
   "metadata": {},
   "source": [
    "Note that this array of moments is symmetrical: the reason why is self-evident (the image of the circular disk is symmetrical about the x and y axes which are the basis for the value of the moments as introduced earlier).\n",
    "\n",
    "To move away from this, let's change our image.\n",
    "\n",
    "- Also note that all the moments are multiples of the $M_{00}$ ($0^{th}$ order moment)"
   ]
  },
  {
   "cell_type": "markdown",
   "id": "50c14487",
   "metadata": {},
   "source": [
    "---"
   ]
  },
  {
   "cell_type": "markdown",
   "id": "0361b763",
   "metadata": {},
   "source": [
    "[The source code](https://github.com/scikit-image/scikit-image/blob/main/skimage/measure/_moments.py#L196-L255) contains another example, but again it's symmetrical (the image is a small square), but with a little editing it can be made to look more like a wonky Tetris block (or maybe a low poly cow)."
   ]
  },
  {
   "cell_type": "code",
   "execution_count": 7,
   "id": "7a9692c1",
   "metadata": {},
   "outputs": [
    {
     "data": {
      "text/plain": [
       "<matplotlib.image.AxesImage at 0x7f7c3d74adc0>"
      ]
     },
     "execution_count": 7,
     "metadata": {},
     "output_type": "execute_result"
    },
    {
     "data": {
      "image/png": "[encoded data removed]",
      "text/plain": [
       "<Figure size 432x288 with 1 Axes>"
      ]
     },
     "metadata": {
      "needs_background": "light"
     },
     "output_type": "display_data"
    }
   ],
   "source": [
    "cow = np.zeros((5, 6), dtype=np.uint8)\n",
    "cow[1:2, 1:3] = 1 # \"head\" of the cow\n",
    "cow[2:4, 2:5] = 1 # \"body\" of the cow\n",
    "plt.gca().xaxis.set_major_locator(plt.MultipleLocator(1))\n",
    "plt.gca().yaxis.set_major_locator(plt.MultipleLocator(1))\n",
    "plt.xlabel(\"x\"); plt.ylabel(\"y\"); plt.grid()\n",
    "plt.imshow(cow)"
   ]
  },
  {
   "cell_type": "code",
   "execution_count": 8,
   "id": "739f5b90",
   "metadata": {},
   "outputs": [
    {
     "data": {
      "text/plain": [
       "array([[  8,  21,  63],\n",
       "       [ 17,  48, 150],\n",
       "       [ 41, 120, 126]], dtype=uint8)"
      ]
     },
     "execution_count": 8,
     "metadata": {},
     "output_type": "execute_result"
    }
   ],
   "source": [
    "moments(cow, order=2).astype(np.uint8)"
   ]
  },
  {
   "cell_type": "markdown",
   "id": "10dc82c1",
   "metadata": {},
   "source": [
    "Now the array of moments is no longer symmetrical, and the values are no longer simply multiples of the $0^{th}$ order moment.\n",
    "\n",
    "- The values of interest are along the antidiagonals from the top-left of the array\n",
    "- If we want at most the $2^{nd}$ order moments, then these are the values along the\n",
    "  main antidiagonal of the array\n",
    "\n",
    "To write out all the equations shown in this array:\n",
    "\n",
    "$$0^{th} order:$$\n",
    "\n",
    "$$M_{00} = \\sum_x \\sum_y f(x,y) = 8$$\n",
    "\n",
    "$$1^{st} order:$$\n",
    "\n",
    "$$M_{10} = \\sum_x \\sum_y x \\hspace{2pt}f(x,y) = 21$$\n",
    "$$M_{01} = \\sum_x \\sum_y y \\hspace{2pt}f(x,y) = 17$$\n",
    "\n",
    "$$2^{nd} order:$$\n",
    "\n",
    "$$M_{20} = \\sum_x \\sum_y x^2 \\hspace{2pt}f(x,y) = 63$$\n",
    "$$M_{11} = \\sum_x \\sum_y xy\\hspace{2pt}f(x,y) = 48$$\n",
    "$$M_{02} = \\sum_x \\sum_y y^2 \\hspace{2pt}f(x,y) = 41$$"
   ]
  },
  {
   "cell_type": "markdown",
   "id": "dc2081d5",
   "metadata": {},
   "source": [
    "By manual calculation (looking at the \"cow\" image), these values can be verified visually to show that the array is in the format:\n",
    "\n",
    "$$\\begin{bmatrix}\n",
    "M_{00} & M_{10} & M_{20}\\\\\n",
    "M_{01} & M_{11} & M_{21}\\\\\n",
    "M_{02} & M_{12} & M_{22}\n",
    "\\end{bmatrix}$$\n",
    "\n",
    "In plain English: the value of $p$ increments along the columns of the array (left to right), and the value of $q$ increments down the rows of the array (top to bottom).\n",
    "\n",
    "So the moments of interest (only up to 2nd order) can be extracted as:"
   ]
  },
  {
   "cell_type": "code",
   "execution_count": 9,
   "id": "693e530d",
   "metadata": {},
   "outputs": [],
   "source": [
    "(M_00, M_10, M_20), (M_01, M_11, _), (M_02, *_) = moments(cow, order=2).astype(np.uint8)"
   ]
  },
  {
   "cell_type": "markdown",
   "id": "55b343d3",
   "metadata": {},
   "source": [
    "To step through a couple of examples:"
   ]
  },
  {
   "cell_type": "markdown",
   "id": "81bcd4ef",
   "metadata": {},
   "source": [
    "### $M_{01}$\n",
    "\n",
    "- The \"head\" on row 1 has 2 pixels\n",
    "- The \"body\" on rows 2 and 3 has 3 pixels on each row\n",
    "- $M_{01} = 2(1) + 3(2) + 3(3) = 2 + 6 + 9 = 17$"
   ]
  },
  {
   "cell_type": "markdown",
   "id": "e50e9711",
   "metadata": {},
   "source": [
    "### $M_{20}$\n",
    "\n",
    "- Column 1 has only a \"head\" pixel\n",
    "- Column 2 has both a \"head\" pixel and 2 \"body\" pixels\n",
    "- Columns 3 and 4 have only the 2 \"body\" pixels each\n",
    "- $M_{20} = 1^2(1) + 2^2(3) + 3^2(2) + 4^2(2) = 1 + 12 + 18 + 32 = 63$"
   ]
  },
  {
   "cell_type": "markdown",
   "id": "6d086c55",
   "metadata": {},
   "source": [
    "## Central moments\n",
    "\n",
    "Image moments are sensitive to position, but by subtracting the average x\n",
    "and y position in the above equation we can obtain a translation-invariant\n",
    "\"central moment\".\n",
    "\n",
    "$$μ_pq = \\int {(x-\\bar{x})}^p {(y-\\bar{y})}^q f(x,y) dx dy$$\n",
    "\n",
    "where\n",
    "\n",
    "$$\\bar{x} = \\frac{M_{10}}{M_{00}} \\hspace{10pt}and\\hspace{10pt} \\bar{y} = \\frac{M_{01}}{M_{00}}$$\n",
    "\n",
    "Meaning first order x or y moment divided by the area moment\n",
    "\n",
    "- $(\\bar{x},\\bar{y})$ is the centroid (a.k.a. centre of gravity)\n",
    "\n",
    "So far so simple."
   ]
  },
  {
   "cell_type": "markdown",
   "id": "ef49c292",
   "metadata": {},
   "source": [
    "## Orientation information from image moments\n",
    "\n",
    "The covariance matrix of an image can be obtained from second order central moments as below\n",
    "(credit: [Wikipedia](https://en.wikipedia.org/wiki/Image_moment#Examples_2))\n",
    "\n",
    "$$\\mu^\\prime_{20} = \\frac{\\mu_{20}}{\\mu_{00}} = \\frac{M_{20}}{M_{00}} - \\bar{x}^2 $$\n",
    "\n",
    "$$\\mu^\\prime_{02} = \\frac{\\mu_{02}}{\\mu_{00}} = \\frac{M_{02}}{M_{00}} - \\bar{y}^2 $$\n",
    "\n",
    "$$\\mu^\\prime_{11} = \\frac{\\mu_{11}}{\\mu_{00}} = \\frac{M_{11}}{M_{00}} - \\bar{x}\\bar{y} $$\n",
    "\n",
    "The covariance matrix of the image $I(x,y)$ is then:\n",
    "\n",
    "$$cov[I(x,y)] = \\begin{bmatrix}\n",
    "\\mu^\\prime_{20} &\\mu^\\prime_{11}\\\\\n",
    "\\mu^\\prime_{02} &\\mu^\\prime_{11}\n",
    "\\end{bmatrix}$$\n",
    "\n",
    "> The eigenvectors of this matrix correspond to the major and minor axes of the\n",
    "> image intensity, so the **orientation** can thus be extracted from the angle\n",
    "> of the eigenvector associated with the largest eigenvalue towards the axis\n",
    "> closest to this eigenvector...\n",
    "\n",
    "- See [this article](https://www.visiondummy.com/2014/04/geometric-interpretation-covariance-matrix/)\n",
    "  for a nice geometric interpretation of covariance, which makes this usage intuitive"
   ]
  },
  {
   "cell_type": "markdown",
   "id": "2936453b",
   "metadata": {},
   "source": [
    "### Telling the time with orientation information from image moments\n",
    "\n",
    "Realistically you'd want to use the orientation information for obtaining\n",
    "angles in your image without a reference direction.\n",
    "\n",
    "Here though, just for fun, let's use image moments to find the orientation\n",
    "of the image of a \"clock\" (so we could tell the time). For simplicity, let's\n",
    "pretend clocks just have one hand!\n",
    "\n",
    "We'll set up an image like the disk at the start, but \"cut out\" a smaller\n",
    "disk, and add hands using `skimage.draw.line`:"
   ]
  },
  {
   "cell_type": "code",
   "execution_count": 53,
   "id": "cdc0b469",
   "metadata": {},
   "outputs": [
    {
     "name": "stdout",
     "output_type": "stream",
     "text": [
      "hand_angle=3.14 radians (internal angle representation)\n",
      "clock_hand_angle=0.00° (clock hand angle from 'top')\n"
     ]
    },
    {
     "data": {
      "text/plain": [
       "array([[0, 0, 0, 0, 0, 0, 0, 0, 0, 0, 0, 0, 0, 0, 0, 0, 0, 0, 0],\n",
       "       [0, 0, 0, 0, 0, 0, 0, 1, 1, 1, 1, 1, 0, 0, 0, 0, 0, 0, 0],\n",
       "       [0, 0, 0, 0, 0, 1, 1, 0, 0, 0, 0, 0, 1, 1, 0, 0, 0, 0, 0],\n",
       "       [0, 0, 0, 0, 1, 0, 0, 0, 0, 1, 0, 0, 0, 0, 1, 0, 0, 0, 0],\n",
       "       [0, 0, 0, 1, 0, 0, 0, 0, 0, 1, 0, 0, 0, 0, 0, 1, 0, 0, 0],\n",
       "       [0, 0, 1, 0, 0, 0, 0, 0, 0, 1, 0, 0, 0, 0, 0, 0, 1, 0, 0],\n",
       "       [0, 0, 1, 0, 0, 0, 0, 0, 0, 1, 0, 0, 0, 0, 0, 0, 1, 0, 0],\n",
       "       [0, 1, 0, 0, 0, 0, 0, 0, 0, 1, 0, 0, 0, 0, 0, 0, 0, 1, 0],\n",
       "       [0, 1, 0, 0, 0, 0, 0, 0, 0, 1, 0, 0, 0, 0, 0, 0, 0, 1, 0],\n",
       "       [0, 1, 0, 0, 0, 0, 0, 0, 0, 1, 0, 0, 0, 0, 0, 0, 0, 1, 0],\n",
       "       [0, 1, 0, 0, 0, 0, 0, 0, 0, 0, 0, 0, 0, 0, 0, 0, 0, 1, 0],\n",
       "       [0, 1, 0, 0, 0, 0, 0, 0, 0, 0, 0, 0, 0, 0, 0, 0, 0, 1, 0],\n",
       "       [0, 0, 1, 0, 0, 0, 0, 0, 0, 0, 0, 0, 0, 0, 0, 0, 1, 0, 0],\n",
       "       [0, 0, 1, 0, 0, 0, 0, 0, 0, 0, 0, 0, 0, 0, 0, 0, 1, 0, 0],\n",
       "       [0, 0, 0, 1, 0, 0, 0, 0, 0, 0, 0, 0, 0, 0, 0, 1, 0, 0, 0],\n",
       "       [0, 0, 0, 0, 1, 0, 0, 0, 0, 0, 0, 0, 0, 0, 1, 0, 0, 0, 0],\n",
       "       [0, 0, 0, 0, 0, 1, 1, 0, 0, 0, 0, 0, 1, 1, 0, 0, 0, 0, 0],\n",
       "       [0, 0, 0, 0, 0, 0, 0, 1, 1, 1, 1, 1, 0, 0, 0, 0, 0, 0, 0],\n",
       "       [0, 0, 0, 0, 0, 0, 0, 0, 0, 0, 0, 0, 0, 0, 0, 0, 0, 0, 0]],\n",
       "      dtype=uint8)"
      ]
     },
     "execution_count": 53,
     "metadata": {},
     "output_type": "execute_result"
    }
   ],
   "source": [
    "from skimage.draw import circle_perimeter, line\n",
    "from numpy import sin, cos, pi\n",
    "import numpy as np\n",
    "\n",
    "def hour_hand(centre, hand_length, hour=12):\n",
    "    r, c = centre\n",
    "    # \"Rotate 180 degrees\" by adding 6 because y axis is inverted\n",
    "    hour -= 6\n",
    "    if not 1 <= hour <= 12:\n",
    "        hour %= 12\n",
    "    day_progress = hour % 12 / 12\n",
    "    hand_angle = day_progress * 2 * pi\n",
    "    hand_end = (\n",
    "        r + np.round(hand_length * cos(hand_angle)).astype(int),\n",
    "        c - np.round(hand_length * sin(hand_angle)).astype(int)\n",
    "    )\n",
    "    print(f\"{hand_angle=:.2f} radians (internal angle representation)\")\n",
    "    clock_hand_angle = ((hand_angle + pi) % (2*pi)) / (2*pi) * 360\n",
    "    print(f\"{clock_hand_angle=:.2f}° (clock hand angle from 'top')\")\n",
    "    return line(*centre, *hand_end)\n",
    "\n",
    "def draw_clock(size=19, hour=12, edged=True):\n",
    "    shape=(size,size)\n",
    "    r = c = size // 2\n",
    "    radius = r-1\n",
    "    rr, cc = circle_perimeter(r, c, radius=radius, shape=None)\n",
    "    hour_rr, hour_cc = hour_hand(centre=(r,c), hand_length=radius-2, hour=hour)\n",
    "    clock = np.zeros(shape=shape, dtype=np.uint8)\n",
    "    clock[rr, cc] = int(edged)\n",
    "    clock[hour_rr, hour_cc] = 1\n",
    "    return clock\n",
    "\n",
    "clock = draw_clock()\n",
    "clock"
   ]
  },
  {
   "cell_type": "markdown",
   "id": "c9b71c6a",
   "metadata": {},
   "source": [
    "By default that drew the face at 12 o'clock, with the hour hand going straight up,\n",
    "and here's 7 o'clock:"
   ]
  },
  {
   "cell_type": "code",
   "execution_count": 54,
   "id": "d7c8fbdd",
   "metadata": {},
   "outputs": [
    {
     "data": {
      "application/vnd.jupyter.widget-view+json": {
       "model_id": "a58838930cad440b94b2edfbedd1587c",
       "version_major": 2,
       "version_minor": 0
      },
      "text/plain": [
       "interactive(children=(IntSlider(value=15, description='size', max=200, min=5), IntSlider(value=7, description=…"
      ]
     },
     "metadata": {},
     "output_type": "display_data"
    }
   ],
   "source": [
    "from ipywidgets import interact\n",
    "\n",
    "@interact(size=(5,200), h_val=(1,12))\n",
    "def plot_clock(size=15, h_val=7, edged=True):\n",
    "    plt.gca().xaxis.set_major_locator(plt.MultipleLocator(10))\n",
    "    plt.gca().yaxis.set_major_locator(plt.MultipleLocator(10))\n",
    "    plt.xlabel(\"x\")\n",
    "    plt.ylabel(\"y\")\n",
    "    o_clock = draw_clock(size=size, hour=h_val, edged=edged)\n",
    "    plt.imshow(o_clock)"
   ]
  },
  {
   "cell_type": "markdown",
   "id": "5e844e74",
   "metadata": {},
   "source": [
    "The orientation is printed out above the clock... but now imagine this is just an\n",
    "image of a clock you came across (rather than programmed), and you want to assess\n",
    "its orientation using image moments.\n",
    "\n",
    "You can do so with the machinery introduced above. Recall:\n",
    "\n",
    "The covariance matrix of the image $I(x,y)$ is then:\n",
    "\n",
    "$$cov[I(x,y)] = \\begin{bmatrix}\n",
    "\\mu^\\prime_{20} &\\mu^\\prime_{11}\\\\\n",
    "\\mu^\\prime_{02} &\\mu^\\prime_{11}\n",
    "\\end{bmatrix}$$"
   ]
  },
  {
   "cell_type": "code",
   "execution_count": 23,
   "id": "694062b9",
   "metadata": {},
   "outputs": [
    {
     "name": "stdout",
     "output_type": "stream",
     "text": [
      "hand_angle=0.52 radians (internal angle representation)\n",
      "clock_hand_angle=210.00° (clock hand angle from 'top')\n",
      "[[  36    0  585]\n",
      " [   0   -8  -84]\n",
      " [ 593   45 4319]]\n"
     ]
    }
   ],
   "source": [
    "from skimage.measure import moments_central\n",
    "seven_o_clock = draw_clock(size=15, hour=7)\n",
    "c7_central_moments = moments_central(seven_o_clock, order=2).astype(int)\n",
    "print(c7_central_moments)"
   ]
  },
  {
   "cell_type": "code",
   "execution_count": 24,
   "id": "b4ff0af6",
   "metadata": {},
   "outputs": [
    {
     "name": "stdout",
     "output_type": "stream",
     "text": [
      "[[585  -8]\n",
      " [593  -8]]\n"
     ]
    }
   ],
   "source": [
    "(mu_00, mu_10, mu_20), (mu_01, mu_11, _), (mu_02, *_) = c7_central_moments\n",
    "c7_cov = np.array([[mu_20, mu_11],[mu_02, mu_11]])\n",
    "print(c7_cov)"
   ]
  },
  {
   "cell_type": "markdown",
   "id": "1ca97af1",
   "metadata": {},
   "source": [
    "To get the orientation, we need the principle eigenvector, which we get\n",
    "from PCA using the Singular Value Decomposition (SVD)."
   ]
  },
  {
   "cell_type": "code",
   "execution_count": 46,
   "id": "b15ce42f",
   "metadata": {},
   "outputs": [
    {
     "name": "stdout",
     "output_type": "stream",
     "text": [
      "[-0.70228939 -0.71189157]\n"
     ]
    }
   ],
   "source": [
    "svd_u, *_ = np.linalg.svd(c7_cov)\n",
    "print(svd_u[:, 0])"
   ]
  },
  {
   "cell_type": "markdown",
   "id": "0bef2af4",
   "metadata": {},
   "source": [
    "Collecting these steps into a function for reuse:"
   ]
  },
  {
   "cell_type": "code",
   "execution_count": 50,
   "id": "948f913a",
   "metadata": {},
   "outputs": [],
   "source": [
    "def extract_orientation(clock):\n",
    "    central_moments = moments_central(clock, order=2).astype(int)\n",
    "    (mu_00, mu_10, mu_20), (mu_01, mu_11, _), (mu_02, *_) = central_moments\n",
    "    cov = np.array([[mu_20, mu_11],[mu_02, mu_11]])\n",
    "    svd_u, *_ = np.linalg.svd(cov)\n",
    "    return svd_u[:, 0]"
   ]
  },
  {
   "cell_type": "code",
   "execution_count": 56,
   "id": "a945a758",
   "metadata": {},
   "outputs": [
    {
     "data": {
      "application/vnd.jupyter.widget-view+json": {
       "model_id": "80216866329c4a01a4e4bee76fcae6c6",
       "version_major": 2,
       "version_minor": 0
      },
      "text/plain": [
       "interactive(children=(IntSlider(value=15, description='size', max=200, min=5), IntSlider(value=7, description=…"
      ]
     },
     "metadata": {},
     "output_type": "display_data"
    }
   ],
   "source": [
    "@interact(size=(5,200), h_val=(1,12))\n",
    "def plot_clock(size=15, h_val=7, edged=True):\n",
    "    plt.gca().xaxis.set_major_locator(plt.MultipleLocator(10))\n",
    "    plt.gca().yaxis.set_major_locator(plt.MultipleLocator(10))\n",
    "    plt.xlabel(\"x\")\n",
    "    plt.ylabel(\"y\")\n",
    "    o_clock = draw_clock(size=size, hour=h_val, edged=edged)\n",
    "    orient = extract_orientation(o_clock)\n",
    "    print(f\"{orient=}\")\n",
    "    plt.imshow(o_clock)"
   ]
  },
  {
   "cell_type": "markdown",
   "id": "8832787b",
   "metadata": {},
   "source": [
    "The interpretation of this angle is somewhat subjective to the application, but\n",
    "if you untick the checkbox and draw only the hour hand of the clock you'll see:\n",
    "\n",
    "- the values at 3 and 9 are the same\n",
    "- the values at 3 (or 9) and 6 (or 12) are orthogonal"
   ]
  },
  {
   "cell_type": "markdown",
   "id": "1f629027",
   "metadata": {},
   "source": [
    "## Further info\n",
    "\n",
    "The moments above are all _geometric moments_ since the polynomial basis\n",
    "is a standard power basis $x^p$ multiplied by $y^q$.\n",
    "\n",
    "If you want to read more, check out\n",
    "Flusser et al's book _Moments and Moment Invariants in Pattern Recognition_"
   ]
  }
 ],
 "metadata": {
  "kernelspec": {
   "display_name": "Python 3",
   "language": "python",
   "name": "python3"
  },
  "language_info": {
   "codemirror_mode": {
    "name": "ipython",
    "version": 3
   },
   "file_extension": ".py",
   "mimetype": "text/x-python",
   "name": "python",
   "nbconvert_exporter": "python",
   "pygments_lexer": "ipython3",
   "version": "3.9.4"
  }
 },
 "nbformat": 4,
 "nbformat_minor": 5
}
